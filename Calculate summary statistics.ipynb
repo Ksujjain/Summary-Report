{
 "cells": [
  {
   "cell_type": "code",
   "execution_count": 1,
   "id": "beaee5a8",
   "metadata": {},
   "outputs": [],
   "source": [
    "import pandas as pd\n",
    "import numpy as np\n",
    "from scipy import stats\n",
    "import warnings\n",
    "with warnings.catch_warnings():\n",
    "    warnings.filterwarnings(\"ignore\")"
   ]
  },
  {
   "cell_type": "code",
   "execution_count": 2,
   "id": "db73bff2",
   "metadata": {},
   "outputs": [],
   "source": [
    "# Assuming your dataset is in a DataFrame called 'df'\n",
    "df = pd.read_csv(\"Downloads//gender_submission.csv\")"
   ]
  },
  {
   "cell_type": "code",
   "execution_count": 3,
   "id": "66728883",
   "metadata": {},
   "outputs": [
    {
     "name": "stdout",
     "output_type": "stream",
     "text": [
      "Mean:\n",
      "PassengerId    1100.500000\n",
      "Survived          0.363636\n",
      "dtype: float64\n"
     ]
    }
   ],
   "source": [
    "# Calculate the mean\n",
    "mean = df.mean()\n",
    "# Print or use the calculated statistics\n",
    "print(\"Mean:\")\n",
    "print(mean)"
   ]
  },
  {
   "cell_type": "code",
   "execution_count": 4,
   "id": "8d2557e6",
   "metadata": {},
   "outputs": [
    {
     "name": "stdout",
     "output_type": "stream",
     "text": [
      "Median:\n",
      "PassengerId    1100.5\n",
      "Survived          0.0\n",
      "dtype: float64\n"
     ]
    }
   ],
   "source": [
    "# Calculate the median\n",
    "median = df.median()\n",
    "print(\"Median:\")\n",
    "print(median)"
   ]
  },
  {
   "cell_type": "code",
   "execution_count": 5,
   "id": "27ee6878",
   "metadata": {},
   "outputs": [
    {
     "name": "stdout",
     "output_type": "stream",
     "text": [
      "Mode:\n",
      "ModeResult(mode=array([[892,   0]], dtype=int64), count=array([[  1, 266]]))\n"
     ]
    },
    {
     "name": "stderr",
     "output_type": "stream",
     "text": [
      "C:\\Users\\haida\\AppData\\Local\\Temp\\ipykernel_7228\\4291802590.py:2: FutureWarning: Unlike other reduction functions (e.g. `skew`, `kurtosis`), the default behavior of `mode` typically preserves the axis it acts along. In SciPy 1.11.0, this behavior will change: the default value of `keepdims` will become False, the `axis` over which the statistic is taken will be eliminated, and the value None will no longer be accepted. Set `keepdims` to True or False to avoid this warning.\n",
      "  mode = stats.mode(df, axis=0)  # axis=0 for column-wise mode\n"
     ]
    }
   ],
   "source": [
    "# Calculate the mode\n",
    "mode = stats.mode(df, axis=0)  # axis=0 for column-wise mode\n",
    "print(\"Mode:\")\n",
    "print(mode)"
   ]
  },
  {
   "cell_type": "code",
   "execution_count": 6,
   "id": "66a555ca",
   "metadata": {},
   "outputs": [
    {
     "name": "stdout",
     "output_type": "stream",
     "text": [
      "Standard Deviation:\n",
      "PassengerId    120.810458\n",
      "Survived         0.481622\n",
      "dtype: float64\n"
     ]
    }
   ],
   "source": [
    "# Calculate the standard deviation\n",
    "std_dev = df.std()\n",
    "print(\"Standard Deviation:\")\n",
    "print(std_dev)"
   ]
  }
 ],
 "metadata": {
  "kernelspec": {
   "display_name": "Python 3 (ipykernel)",
   "language": "python",
   "name": "python3"
  },
  "language_info": {
   "codemirror_mode": {
    "name": "ipython",
    "version": 3
   },
   "file_extension": ".py",
   "mimetype": "text/x-python",
   "name": "python",
   "nbconvert_exporter": "python",
   "pygments_lexer": "ipython3",
   "version": "3.11.4"
  }
 },
 "nbformat": 4,
 "nbformat_minor": 5
}
